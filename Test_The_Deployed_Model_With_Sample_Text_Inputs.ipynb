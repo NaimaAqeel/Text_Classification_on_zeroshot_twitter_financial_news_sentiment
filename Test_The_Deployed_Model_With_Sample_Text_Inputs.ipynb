{
  "nbformat": 4,
  "nbformat_minor": 0,
  "metadata": {
    "colab": {
      "private_outputs": true,
      "provenance": []
    },
    "kernelspec": {
      "name": "python3",
      "display_name": "Python 3"
    },
    "language_info": {
      "name": "python"
    }
  },
  "cells": [
    {
      "cell_type": "markdown",
      "source": [
        "# Load the Model"
      ],
      "metadata": {
        "id": "QGpb6KfxqUsD"
      }
    },
    {
      "cell_type": "code",
      "execution_count": null,
      "metadata": {
        "id": "DnmzXMFU7y-o"
      },
      "outputs": [],
      "source": [
        "import joblib\n",
        "\n",
        "# Load the saved model and vectorizer\n",
        "classifier, vectorizer = joblib.load('/content/sentiment_classifier.joblib')"
      ]
    },
    {
      "cell_type": "code",
      "source": [
        "from sklearn.feature_extraction.text import CountVectorizer\n",
        "from sklearn.pipeline import make_pipeline\n",
        "from sklearn.naive_bayes import MultinomialNB\n",
        "\n",
        "def preprocess_text(text):\n",
        "    # Perform any necessary preprocessing steps here\n",
        "    return text\n",
        "\n",
        "def predict_sentiment(text):\n",
        "    # Preprocess the text\n",
        "    processed_text = preprocess_text(text)\n",
        "    # Convert the preprocessed text into a format suitable for prediction\n",
        "    text_vector = vectorizer.transform([processed_text])\n",
        "    # Make predictions\n",
        "    predicted_class = classifier.predict(text_vector)[0]\n",
        "    return predicted_class"
      ],
      "metadata": {
        "id": "_5Fm38kco4cu"
      },
      "execution_count": null,
      "outputs": []
    },
    {
      "cell_type": "markdown",
      "source": [
        "# Test the deployed model with sample text inputs"
      ],
      "metadata": {
        "id": "NfZUPideqBcx"
      }
    },
    {
      "cell_type": "markdown",
      "source": [
        "* class 0 (negative sentiment)\n",
        "*   class 1 (neutral sentiment)\n",
        "*   class 2 (positive sentiment)\n",
        "\n"
      ],
      "metadata": {
        "id": "g3z3t44JqCxl"
      }
    },
    {
      "cell_type": "code",
      "source": [
        "sample_text_1 = \"$AAPL stock hits all-time high after strong earnings report.\"\n",
        "sample_text_2 = \"$TSLA announces plans to build a new Gigafactory in Texas.\"\n",
        "sample_text_3 = \"Investors are cautious as market volatility increases.\"\n",
        "sample_text_4 = \"$AMZN shares plunge following disappointing quarterly results.\""
      ],
      "metadata": {
        "id": "h5ctLXVijLA6"
      },
      "execution_count": null,
      "outputs": []
    },
    {
      "cell_type": "markdown",
      "source": [
        "# Predict sentiment for each sample text"
      ],
      "metadata": {
        "id": "agEOo_lEp5PA"
      }
    },
    {
      "cell_type": "code",
      "source": [
        "predicted_class_1 = predict_sentiment(sample_text_1)\n",
        "predicted_class_2 = predict_sentiment(sample_text_2)\n",
        "predicted_class_3 = predict_sentiment(sample_text_3)\n",
        "predicted_class_4 = predict_sentiment(sample_text_4)\n",
        "\n",
        "# Print predicted sentiment for each sample text\n",
        "print(\"Predicted Sentiment for Sample Text 1:\", predicted_class_1)\n",
        "print(\"Predicted Sentiment for Sample Text 2:\", predicted_class_2)\n",
        "print(\"Predicted Sentiment for Sample Text 3:\", predicted_class_3)\n",
        "print(\"Predicted Sentiment for Sample Text 4:\", predicted_class_4)"
      ],
      "metadata": {
        "id": "GJV5UXwYjPyo"
      },
      "execution_count": null,
      "outputs": []
    },
    {
      "cell_type": "markdown",
      "source": [
        "Here are the predicted sentiments for each sample text:\n",
        "\n",
        "Sample Text 1: \"$AAPL stock hits all-time high after strong earnings report.\" Predicted Sentiment: Neutral (Class 1)\n",
        "\n",
        "Sample Text 2: \"$TSLA announces plans to build a new Gigafactory in Texas.\" Predicted Sentiment: Positive (Class 2)\n",
        "\n",
        "Sample Text 3: \"Investors are cautious as market volatility increases.\" Predicted Sentiment: Positive (Class 2)\n",
        "\n",
        "Sample Text 4: \"$AMZN shares plunge following disappointing quarterly results.\" Predicted Sentiment: Negative (Class 0)"
      ],
      "metadata": {
        "id": "aaTfLQsXpl8C"
      }
    },
    {
      "cell_type": "markdown",
      "source": [
        "Analysis:\n",
        "\n",
        "Sample Text 1: The model predicted a neutral sentiment for this text, which seems reasonable as it contains factual information about Apple's stock performance without any explicitly positive or negative sentiment.\n",
        "\n",
        "Sample Text 2: The model correctly predicted a positive sentiment for this text, as it contains positive news about Tesla announcing plans to build a new Gigafactory.\n",
        "\n",
        "Sample Text 3: The model predicted a positive sentiment for this text, which might be incorrect as the text suggests caution among investors due to market volatility, which could be interpreted as a negative sentiment.\n",
        "\n",
        "Sample Text 4: The model correctly predicted a negative sentiment for this text, as it contains negative news about Amazon's shares plunging following disappointing quarterly results."
      ],
      "metadata": {
        "id": "3xzlEXKHpoMB"
      }
    },
    {
      "cell_type": "markdown",
      "source": [
        "Insights:\n",
        "\n",
        "The model seems to perform reasonably well in predicting sentiments for financial news tweets, correctly identifying positive and negative sentiments in most cases.\n",
        "\n",
        "However, there might be cases where the model's predictions are not entirely accurate, such as in Sample Text 3, where it predicted a positive sentiment despite the text containing cautious language."
      ],
      "metadata": {
        "id": "eRfizqzzptcB"
      }
    }
  ]
}